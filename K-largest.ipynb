{
 "cells": [
  {
   "cell_type": "code",
   "execution_count": 1,
   "id": "32b9cfd0",
   "metadata": {},
   "outputs": [],
   "source": [
    "import heapq\n",
    "class KthLargest(object):\n",
    "\n",
    "    def __init__(self, k, nums):\n",
    "        self.k = k\n",
    "        self.pq = nums[:min(k, len(nums))]\n",
    "        print(self.pq)\n",
    "        heapq.heapify(self.pq)\n",
    "        for i in range(k, len(nums)):\n",
    "            heapq.heappushpop(self.pq, nums[i])\n",
    "\n",
    "    def add(self, val):\n",
    "        heapq.heappush(self.pq, val)\n",
    "        if len(self.pq) > self.k : heapq.heappop(self.pq)\n",
    "        return self.pq[0]"
   ]
  },
  {
   "cell_type": "code",
   "execution_count": 2,
   "id": "ee775117",
   "metadata": {},
   "outputs": [
    {
     "name": "stdout",
     "output_type": "stream",
     "text": [
      "[1]\n"
     ]
    },
    {
     "data": {
      "text/plain": [
       "9"
      ]
     },
     "execution_count": 2,
     "metadata": {},
     "output_type": "execute_result"
    }
   ],
   "source": [
    "obj = KthLargest(1, [1,2,3,4,5,6,7,8,9])\n",
    "param_1 = obj.add(-3)\n",
    "param_1"
   ]
  },
  {
   "cell_type": "code",
   "execution_count": null,
   "id": "ee9af3fc",
   "metadata": {},
   "outputs": [],
   "source": []
  }
 ],
 "metadata": {
  "kernelspec": {
   "display_name": "Python 3 (ipykernel)",
   "language": "python",
   "name": "python3"
  },
  "language_info": {
   "codemirror_mode": {
    "name": "ipython",
    "version": 3
   },
   "file_extension": ".py",
   "mimetype": "text/x-python",
   "name": "python",
   "nbconvert_exporter": "python",
   "pygments_lexer": "ipython3",
   "version": "3.9.12"
  }
 },
 "nbformat": 4,
 "nbformat_minor": 5
}
