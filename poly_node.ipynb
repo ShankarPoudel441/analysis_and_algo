{
 "cells": [
  {
   "cell_type": "code",
   "execution_count": 1,
   "id": "74cf3a33",
   "metadata": {},
   "outputs": [],
   "source": [
    "# Definition for polynomial singly-linked list.\n",
    "class PolyNode:\n",
    "    def __init__(self, x=0, y=0, next=None):\n",
    "        self.coefficient = x\n",
    "        self.power = y\n",
    "        self.next = next\n",
    "        \n",
    "def create_list(lis):\n",
    "    if len(lis)==0:\n",
    "        return None\n",
    "    return PolyNode(x=lis[0][0],y=lis[0][1],next=create_list(lis[1:]))\n",
    "\n",
    "def print_list(lll):\n",
    "    while lll:\n",
    "        a=print_list(lll.next)\n",
    "        return [[lll.coefficient,lll.power]]+a if a else [[lll.coefficient,lll.power]]\n",
    "    \n",
    "class Solution:\n",
    "    def addPoly(self, poly1: 'PolyNode', poly2: 'PolyNode') -> 'PolyNode':\n",
    "        to_ret=curr=PolyNode()\n",
    "        while poly1 and poly2:\n",
    "            print(\"   \",print_list(to_ret),\"    \",print_list(curr))\n",
    "            if poly1.power>poly2.power:\n",
    "                curr.next=poly1\n",
    "                curr=curr.next\n",
    "                poly1=poly1.next\n",
    "            elif poly1.power<poly2.power:\n",
    "                curr.next=poly2.coefficient\n",
    "                curr=curr.next\n",
    "                poly2=poly2.next\n",
    "            else:\n",
    "                print(print_list(poly1),print_list(poly2))\n",
    "                if x:=poly2.coefficient+poly1.coefficient:\n",
    "                    curr.next=PolyNode(x=x, y=poly2.power)\n",
    "                poly1=poly1.next\n",
    "                poly2=poly2.next\n",
    "                print(\"   \",print_list(to_ret))\n",
    "                \n",
    "        print(\"   \",print_list(to_ret))       \n",
    "        curr.next = poly1 or poly2\n",
    "        print(\"   \",print_list(to_ret))  \n",
    "        return to_ret.next\n",
    "    "
   ]
  },
  {
   "cell_type": "code",
   "execution_count": 2,
   "id": "8a59e3f5",
   "metadata": {},
   "outputs": [],
   "source": [
    "a=create_list([[2,2],[4,1],[3,0]])\n",
    "b=create_list([[3,2],[-4,1],[-1,0]])\n"
   ]
  },
  {
   "cell_type": "code",
   "execution_count": 3,
   "id": "9a7b2fb8",
   "metadata": {},
   "outputs": [
    {
     "name": "stdout",
     "output_type": "stream",
     "text": [
      "    [[0, 0]]      [[0, 0]]\n",
      "[[2, 2], [4, 1], [3, 0]] [[3, 2], [-4, 1], [-1, 0]]\n",
      "    [[0, 0], [5, 2]]\n",
      "    [[0, 0], [5, 2]]      [[0, 0], [5, 2]]\n",
      "[[4, 1], [3, 0]] [[-4, 1], [-1, 0]]\n",
      "    [[0, 0], [5, 2]]\n",
      "    [[0, 0], [5, 2]]      [[0, 0], [5, 2]]\n",
      "[[3, 0]] [[-1, 0]]\n",
      "    [[0, 0], [2, 0]]\n",
      "    [[0, 0], [2, 0]]\n",
      "    [[0, 0]]\n",
      "########## None\n"
     ]
    }
   ],
   "source": [
    "sol=Solution()\n",
    "print(\"##########\",print_list(sol.addPoly(a,b)))"
   ]
  },
  {
   "cell_type": "code",
   "execution_count": null,
   "id": "8230a4fe",
   "metadata": {},
   "outputs": [],
   "source": []
  }
 ],
 "metadata": {
  "kernelspec": {
   "display_name": "Python 3 (ipykernel)",
   "language": "python",
   "name": "python3"
  },
  "language_info": {
   "codemirror_mode": {
    "name": "ipython",
    "version": 3
   },
   "file_extension": ".py",
   "mimetype": "text/x-python",
   "name": "python",
   "nbconvert_exporter": "python",
   "pygments_lexer": "ipython3",
   "version": "3.9.12"
  }
 },
 "nbformat": 4,
 "nbformat_minor": 5
}
