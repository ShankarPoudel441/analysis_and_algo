{
 "cells": [
  {
   "cell_type": "code",
   "execution_count": 1,
   "id": "8b08f424",
   "metadata": {},
   "outputs": [],
   "source": [
    "class Solution:\n",
    "    \n",
    "    def isMirror(self,a,b):\n",
    "        if a==None and b==None:\n",
    "            return True\n",
    "        if a==None or b==None:\n",
    "            return False\n",
    "        return a.val==b.val and self.isMirror(a.left,b.right) and self.isMirror(a.right,b.left)\n",
    "\n",
    "    def isSymmetric(self, root: Optional[TreeNode]) -> bool:\n",
    "        return self.isMirror(root.left,root.right)"
   ]
  },
  {
   "cell_type": "code",
   "execution_count": null,
   "id": "ba550d53",
   "metadata": {},
   "outputs": [],
   "source": [
    "class Solution:\n",
    "    def isSymmetric(self, root: Optional[TreeNode]) -> bool:\n",
    "        queue = [root]\n",
    "        while queue:\n",
    "            values = [i.val if i else None for i in queue]\n",
    "            if values != values[::-1]: return False\n",
    "            queue = [child for i in queue if i for child in (i.left, i.right)]\n",
    "        return True\n",
    "\n"
   ]
  }
 ],
 "metadata": {
  "kernelspec": {
   "display_name": "Python 3 (ipykernel)",
   "language": "python",
   "name": "python3"
  },
  "language_info": {
   "codemirror_mode": {
    "name": "ipython",
    "version": 3
   },
   "file_extension": ".py",
   "mimetype": "text/x-python",
   "name": "python",
   "nbconvert_exporter": "python",
   "pygments_lexer": "ipython3",
   "version": "3.9.12"
  }
 },
 "nbformat": 4,
 "nbformat_minor": 5
}
