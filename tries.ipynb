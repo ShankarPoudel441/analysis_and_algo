{
 "cells": [
  {
   "cell_type": "code",
   "execution_count": 2,
   "id": "e887d826",
   "metadata": {},
   "outputs": [
    {
     "data": {
      "text/plain": [
       "[2, [0, 1], 5, [0, 1, 2, 3, 4], [1, 2, 3, 4], [3, 4]]"
      ]
     },
     "execution_count": 2,
     "metadata": {},
     "output_type": "execute_result"
    }
   ],
   "source": [
    "a=[0,1,2,3,4,5,6]\n",
    "[a[2],a[:2],a[-2],a[:-2],a[1:-2],a[-4:-2]]\n",
    "\n",
    "\n",
    "#### If you are taking single value index from 0\n",
    "#### While taking range of values, a[:n] you get values from index 0 to n-1\n"
   ]
  },
  {
   "cell_type": "code",
   "execution_count": 3,
   "id": "23d3ed36",
   "metadata": {},
   "outputs": [],
   "source": [
    "a.append(5)"
   ]
  },
  {
   "cell_type": "code",
   "execution_count": 19,
   "id": "eae796da",
   "metadata": {},
   "outputs": [],
   "source": [
    "import heapq\n",
    "class KthLargest(object):\n",
    "\n",
    "    def __init__(self, k, nums):\n",
    "        self.k = k\n",
    "        self.pq = nums[:min(k, len(nums))]\n",
    "        print(self.pq)\n",
    "        heapq.heapify(self.pq)\n",
    "        for i in range(k, len(nums)):\n",
    "            heapq.heappushpop(self.pq, nums[i])\n",
    "\n",
    "    def add(self, val):\n",
    "        heapq.heappush(self.pq, val)\n",
    "        if len(self.pq) > self.k : heapq.heappop(self.pq)\n",
    "        return self.pq[0]"
   ]
  },
  {
   "cell_type": "code",
   "execution_count": null,
   "id": "37f99d9b",
   "metadata": {},
   "outputs": [],
   "source": [
    "import heapq\n",
    "\n",
    "class KthLargest:\n",
    "\n",
    "    def __init__(self, k: int, nums: List[int]):\n",
    "        self.k=k\n",
    "        self.pq=nums[:min(k,len(nums))]\n",
    "        heapq.heapify(self.pq)\n",
    "        [heapq.heappushpop(self.pq,i) for i in nums[min(k,len(nums)):]]\n",
    "        print(self.pq)\n",
    "        \n",
    "\n",
    "    def add(self, val: int) -> int:\n",
    "        heapq.heappush(self.pq,val)\n",
    "        print(self.pq,\"#######\")\n",
    "        if len(self.pq)>self.k:\n",
    "            heapq.heappop(self.pq)\n",
    "        print(self.pq)\n",
    "        return self.pq[self.k-1]"
   ]
  },
  {
   "cell_type": "code",
   "execution_count": 20,
   "id": "7a585168",
   "metadata": {},
   "outputs": [
    {
     "name": "stdout",
     "output_type": "stream",
     "text": [
      "[1]\n"
     ]
    },
    {
     "data": {
      "text/plain": [
       "9"
      ]
     },
     "execution_count": 20,
     "metadata": {},
     "output_type": "execute_result"
    }
   ],
   "source": [
    "obj = KthLargest(1, [1,2,3,4,5,6,7,8,9])\n",
    "param_1 = obj.add(-3)\n",
    "param_1"
   ]
  },
  {
   "cell_type": "code",
   "execution_count": 29,
   "id": "e3cf86ec",
   "metadata": {},
   "outputs": [
    {
     "data": {
      "text/plain": [
       "[-1, -2, -3, -4, -5]"
      ]
     },
     "execution_count": 29,
     "metadata": {},
     "output_type": "execute_result"
    }
   ],
   "source": [
    "a=[1,2,3,4,5]\n",
    "a=[i*-1 for i in a]\n",
    "a"
   ]
  },
  {
   "cell_type": "code",
   "execution_count": 32,
   "id": "32aeedca",
   "metadata": {},
   "outputs": [
    {
     "data": {
      "text/plain": [
       "[-1, -2, -3, -4, -5, 1, 2, 3]"
      ]
     },
     "execution_count": 32,
     "metadata": {},
     "output_type": "execute_result"
    }
   ],
   "source": [
    "# a.append(*[1,2,3]) #Gives error\n",
    "a+[1,2,3]"
   ]
  },
  {
   "cell_type": "code",
   "execution_count": 75,
   "id": "bf024d9d",
   "metadata": {},
   "outputs": [],
   "source": [
    "# Definition for polynomial singly-linked list.\n",
    "class PolyNode:\n",
    "    def __init__(self, x=0, y=0, next=None):\n",
    "        self.coefficient = x\n",
    "        self.power = y\n",
    "        self.next = next\n",
    "        \n",
    "def create_list(lis):\n",
    "    if len(lis)==0:\n",
    "        return None\n",
    "    return PolyNode(x=lis[0][0],y=lis[0][1],next=create_list(lis[1:]))\n",
    "\n",
    "def print_list(lll):\n",
    "    while lll:\n",
    "        a=print_list(lll.next)\n",
    "        return [[lll.coefficient,lll.power]]+a if a else [[lll.coefficient,lll.power]]\n",
    "    \n",
    "class Solution:\n",
    "    def addPoly(self, poly1: 'PolyNode', poly2: 'PolyNode') -> 'PolyNode':\n",
    "        to_ret=curr=PolyNode()\n",
    "        while poly1 and poly2:\n",
    "            print(\"   \",print_list(to_ret),\"    \",print_list(curr))\n",
    "            if poly1.power>poly2.power:\n",
    "                curr.next=poly1\n",
    "                curr=curr.next\n",
    "                poly1=poly1.next\n",
    "            elif poly1.power<poly2.power:\n",
    "                curr.next=poly2.coefficient\n",
    "                curr=curr.next\n",
    "                poly2=poly2.next\n",
    "            else:\n",
    "                print(print_list(poly1),print_list(poly2))\n",
    "                if x:=poly2.coefficient+poly1.coefficient:\n",
    "                    curr.next=PolyNode(x=x, y=poly2.power)\n",
    "                poly1=poly1.next\n",
    "                poly2=poly2.next\n",
    "                print(\"   \",print_list(to_ret))\n",
    "                \n",
    "        print(\"   \",print_list(to_ret))       \n",
    "        curr.next = poly1 or poly2\n",
    "        print(\"   \",print_list(to_ret))  \n",
    "        return to_ret.next\n",
    "    "
   ]
  },
  {
   "cell_type": "code",
   "execution_count": 76,
   "id": "7823d2ab",
   "metadata": {},
   "outputs": [],
   "source": [
    "a=create_list([[2,2],[4,1],[3,0]])\n",
    "b=create_list([[3,2],[-4,1],[-1,0]])\n"
   ]
  },
  {
   "cell_type": "code",
   "execution_count": 77,
   "id": "465e3b07",
   "metadata": {},
   "outputs": [
    {
     "name": "stdout",
     "output_type": "stream",
     "text": [
      "    [[0, 0]]      [[0, 0]]\n",
      "[[2, 2], [4, 1], [3, 0]] [[3, 2], [-4, 1], [-1, 0]]\n",
      "    [[0, 0], [5, 2]]\n",
      "    [[0, 0], [5, 2]]      [[0, 0], [5, 2]]\n",
      "[[4, 1], [3, 0]] [[-4, 1], [-1, 0]]\n",
      "    [[0, 0], [5, 2]]\n",
      "    [[0, 0], [5, 2]]      [[0, 0], [5, 2]]\n",
      "[[3, 0]] [[-1, 0]]\n",
      "    [[0, 0], [2, 0]]\n",
      "    [[0, 0], [2, 0]]\n",
      "    [[0, 0]]\n",
      "########## None\n"
     ]
    }
   ],
   "source": [
    "sol=Solution()\n",
    "print(\"##########\",print_list(sol.addPoly(a,b)))"
   ]
  },
  {
   "cell_type": "code",
   "execution_count": 78,
   "id": "b0debbad",
   "metadata": {},
   "outputs": [],
   "source": [
    "app=bpp=5"
   ]
  },
  {
   "cell_type": "code",
   "execution_count": null,
   "id": "c4fa4fc6",
   "metadata": {},
   "outputs": [],
   "source": []
  }
 ],
 "metadata": {
  "kernelspec": {
   "display_name": "Python 3 (ipykernel)",
   "language": "python",
   "name": "python3"
  },
  "language_info": {
   "codemirror_mode": {
    "name": "ipython",
    "version": 3
   },
   "file_extension": ".py",
   "mimetype": "text/x-python",
   "name": "python",
   "nbconvert_exporter": "python",
   "pygments_lexer": "ipython3",
   "version": "3.9.12"
  }
 },
 "nbformat": 4,
 "nbformat_minor": 5
}
